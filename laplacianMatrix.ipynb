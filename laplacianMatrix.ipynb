{
 "cells": [
  {
   "cell_type": "markdown",
   "metadata": {},
   "source": [
    "Q2-A mohasebe be ravesh bazgashti"
   ]
  },
  {
   "cell_type": "code",
   "execution_count": 1,
   "metadata": {},
   "outputs": [],
   "source": [
    "import math\n",
    "import numpy as np\n",
    "A = np.array([[1, 1], [1, 0]])\n",
    "\n",
    "def fibo_recursive(A, n):\n",
    "    if(n == 1):\n",
    "        return A\n",
    "    P = fibo_recursive(A, math.floor(n / 2))\n",
    "    if(n % 2 == 1):\n",
    "        return np.matmul(np.matmul(P, P), A)\n",
    "    else:\n",
    "        return np.matmul(P, P)\n"
   ]
  },
  {
   "cell_type": "markdown",
   "metadata": {},
   "source": [
    "Q2-B mohasebe be ravesh meghdar vizhe"
   ]
  },
  {
   "cell_type": "code",
   "execution_count": 2,
   "metadata": {},
   "outputs": [
    {
     "name": "stdout",
     "output_type": "stream",
     "text": [
      "[[8. 5.]\n",
      " [5. 3.]]\n",
      "[[8 5]\n",
      " [5 3]]\n"
     ]
    }
   ],
   "source": [
    "def fibo_eig(A, n):\n",
    "    eigenvalues, eigenvectors = np.linalg.eig(A)\n",
    "    digonal_matrix = np.diag(eigenvalues)\n",
    "    invers_of_eigenvectors = np.linalg.inv(eigenvectors)\n",
    "    return np.matmul(np.matmul(eigenvectors, np.linalg.matrix_power(digonal_matrix, n)), invers_of_eigenvectors)\n",
    "    #return np.dot(np.dot(eigenvectors, np.linalg.matrix_power(digonal_matrix, n)), invers_of_eigenvectors)\n",
    "\n",
    "print(fibo_eig(A, 5))\n",
    "print(fibo_recursive(A, 5))"
   ]
  },
  {
   "cell_type": "markdown",
   "metadata": {},
   "source": [
    "Q2-C mohasebe zaman"
   ]
  },
  {
   "cell_type": "code",
   "execution_count": 3,
   "metadata": {},
   "outputs": [
    {
     "name": "stdout",
     "output_type": "stream",
     "text": [
      "0.01  s\n",
      "0.03  s\n"
     ]
    }
   ],
   "source": [
    "time = 1000\n",
    "first = np.testing.measure('fibo_recursive(A, 1234)', time)\n",
    "second = np.testing.measure('fibo_eig(A, 1234)', time)\n",
    "\n",
    "print(first, \" s\")\n",
    "print(second, \" s\")"
   ]
  },
  {
   "cell_type": "markdown",
   "metadata": {},
   "source": [
    "Q1-A"
   ]
  },
  {
   "cell_type": "code",
   "execution_count": 4,
   "metadata": {},
   "outputs": [
    {
     "name": "stdout",
     "output_type": "stream",
     "text": [
      "[0.41597176 0.46426306 0.50270124 0.30499445 0.36842513 0.36049977]\n",
      "(3, np.float64(0.5027012365868218))   (2, np.float64(0.4642630604442141))   (1, np.float64(0.41597176100953864))\n"
     ]
    }
   ],
   "source": [
    "import numpy as np\n",
    "import math\n",
    "\n",
    "def magnitude(vector):\n",
    "    sum = 0\n",
    "    for i in range(len(vector)):\n",
    "        sum += vector[i] * vector[i]\n",
    "    return math.sqrt(sum)\n",
    "def dominant_eigenvector(matrix, iteration):\n",
    "    guess = np.ones(matrix.shape[1])\n",
    "    for i in range(iteration):\n",
    "        last = np.dot(guess, matrix)\n",
    "        normalize = np.linalg.norm(last)\n",
    "        for j in range(len(last)):\n",
    "            last[j] = last[j] / normalize\n",
    "        if(magnitude(last - guess) < 0.001):\n",
    "            return last\n",
    "        guess = last\n",
    "    return guess\n",
    "matrix = np.array([\n",
    "    [0, 0.8, 0.6, 0.1, 0, 0],\n",
    "    [0.8, 0, 0.9, 0, 0, 0],\n",
    "    [0.6, 0.9, 0, 0, 0.3, 0.2],\n",
    "    [0.1, 0, 0, 0, 0.6, 0.7],\n",
    "    [0, 0, 0.3, 0.6, 0, 0.8],\n",
    "    [0, 0, 0.2, 0.7, 0.8, 0]\n",
    "])\n",
    "x = dominant_eigenvector(matrix, 1000)\n",
    "print(x)\n",
    "scores = list(enumerate(x, start = 1))\n",
    "sortedSocres = sorted(scores, key = lambda t : t[1])\n",
    "print(sortedSocres[len(sortedSocres) - 1] ,\" \", sortedSocres[len(sortedSocres) - 2], \" \", sortedSocres[len(sortedSocres) - 3])"
   ]
  },
  {
   "cell_type": "markdown",
   "metadata": {},
   "source": [
    "Q1-B"
   ]
  },
  {
   "cell_type": "code",
   "execution_count": 5,
   "metadata": {},
   "outputs": [
    {
     "name": "stdout",
     "output_type": "stream",
     "text": [
      "[[-18.92385934   3.28477187   3.48477187   3.98477187   4.08477187\n",
      "    4.08477187]\n",
      " [  3.28477187 -18.72385934   3.18477187   4.08477187   4.08477187\n",
      "    4.08477187]\n",
      " [  3.48477187   3.18477187 -18.42385934   4.08477187   3.78477187\n",
      "    3.88477187]\n",
      " [  3.98477187   4.08477187   4.08477187 -19.02385934   3.48477187\n",
      "    3.38477187]\n",
      " [  4.08477187   4.08477187   3.78477187   3.48477187 -18.72385934\n",
      "    3.28477187]\n",
      " [  4.08477187   4.08477187   3.88477187   3.38477187   3.28477187\n",
      "  -18.72385934]]\n",
      "0.001   [0.40824829 0.40824829 0.40824829 0.40824829 0.40824829 0.40824829]\n",
      "graph is fully connected.\n"
     ]
    }
   ],
   "source": [
    "import numpy as np\n",
    "\n",
    "sum1 = np.sum(np.dot(matrix, x))\n",
    "sum2 = np.dot(x, x)\n",
    "landa = sum1 / sum2\n",
    "B = matrix - landa * np.dot(x, x.T)\n",
    "diagonal_matrix = np.zeros((len(B), len(B)))\n",
    "for i in range(len(B)):\n",
    "    sum = 0\n",
    "    for j in range(len(B)):\n",
    "        sum += B[i][j]\n",
    "    diagonal_matrix[i][i] = sum\n",
    "laplas = diagonal_matrix - B\n",
    "print(laplas)\n",
    "def inverse_Power_Iteration(mat):\n",
    "    temp = np.ones(mat.shape[1])\n",
    "    identity = np.zeros((len(mat), len(mat)))\n",
    "    for i in range(len(mat)):\n",
    "        identity[i][i] = 1\n",
    "    zarib = mat - 0.001 * identity\n",
    "    for i in range(50):\n",
    "        temp1 = np.linalg.solve(zarib, temp)\n",
    "        temp1 = temp1 / np.linalg.norm(temp1)\n",
    "        temp = temp1\n",
    "    eigenvalue = np.dot(temp.T, np.dot(mat, temp)) / np.dot(temp.T, temp)\n",
    "    return eigenvalue + 0.001, temp  \n",
    "eigenvalue, eigenvector = inverse_Power_Iteration(laplas)\n",
    "print(eigenvalue, \" \" , eigenvector)\n",
    "if(eigenvalue > 0):\n",
    "    print(\"graph is fully connected.\")\n"
   ]
  },
  {
   "cell_type": "markdown",
   "metadata": {},
   "source": [
    "Q1-C"
   ]
  },
  {
   "cell_type": "code",
   "execution_count": 6,
   "metadata": {},
   "outputs": [
    {
     "name": "stdout",
     "output_type": "stream",
     "text": [
      "is graph fully connected? True\n"
     ]
    }
   ],
   "source": [
    "def nullSpace(matrix):\n",
    "    eigenvalue, eigenvector = np.linalg.eigh(matrix)\n",
    "    zero_v = np.isclose(eigenvalue, 0, atol = 0.0001)\n",
    "    vectors = eigenvector[:, zero_v]\n",
    "    if(vectors.shape[1] == 1):\n",
    "        return True\n",
    "    else:\n",
    "        return False\n",
    "print(\"is graph fully connected?\", nullSpace(laplas))"
   ]
  }
 ],
 "metadata": {
  "kernelspec": {
   "display_name": "Python 3",
   "language": "python",
   "name": "python3"
  },
  "language_info": {
   "codemirror_mode": {
    "name": "ipython",
    "version": 3
   },
   "file_extension": ".py",
   "mimetype": "text/x-python",
   "name": "python",
   "nbconvert_exporter": "python",
   "pygments_lexer": "ipython3",
   "version": "3.12.6"
  },
  "orig_nbformat": 4
 },
 "nbformat": 4,
 "nbformat_minor": 2
}
